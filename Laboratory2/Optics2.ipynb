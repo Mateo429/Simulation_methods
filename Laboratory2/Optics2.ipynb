{
  "cells": [
    {
      "cell_type": "code",
      "execution_count": 3,
      "metadata": {
        "tags": [],
        "id": "vR_I_lvrXxq3"
      },
      "outputs": [],
      "source": [
        "import numpy as np\n",
        "import matplotlib.pyplot as plt\n",
        "import LinearFits as lf"
      ]
    },
    {
      "cell_type": "code",
      "execution_count": 4,
      "metadata": {
        "tags": [],
        "id": "MN24O16VXxq5"
      },
      "outputs": [],
      "source": [
        "#calibrando: 2f = 49\n",
        "y_lente = 36.5 #Posición de la lente"
      ]
    },
    {
      "cell_type": "code",
      "execution_count": 5,
      "metadata": {
        "tags": [],
        "id": "HT_Y3sKXXxq6"
      },
      "outputs": [],
      "source": [
        "y0_1=6\n",
        "si1= np.array([82.5,82.5, 82.7, 82.7,81.7])"
      ]
    },
    {
      "cell_type": "code",
      "execution_count": 6,
      "metadata": {
        "tags": [],
        "id": "uC9kPdaJXxq6"
      },
      "outputs": [],
      "source": [
        "y0_2=7\n",
        "si2 = np.array([82.4, 83.1, 83.0, 82, 82.7])"
      ]
    },
    {
      "cell_type": "code",
      "execution_count": 7,
      "metadata": {
        "tags": [],
        "id": "8kqcjUhmXxq6"
      },
      "outputs": [],
      "source": [
        "y0_3=8\n",
        "si3 = np.array([90.9,89.9,88.0,88.0,89])"
      ]
    },
    {
      "cell_type": "code",
      "execution_count": 8,
      "metadata": {
        "tags": [],
        "id": "YavGIO3MXxq7"
      },
      "outputs": [],
      "source": [
        "#s0 = 27.5 \n",
        "y0_4=9\n",
        "si4 = np.array([90, 89, 91, 90.5, 91.2])"
      ]
    },
    {
      "cell_type": "code",
      "execution_count": 9,
      "metadata": {
        "tags": [],
        "id": "C5c3Xg_uXxq7"
      },
      "outputs": [],
      "source": [
        "y0_5=10\n",
        "si5 = np.array([94, 93.5, 91.5, 92, 93])"
      ]
    },
    {
      "cell_type": "code",
      "execution_count": 10,
      "metadata": {
        "tags": [],
        "id": "j-h6AhM6Xxq7"
      },
      "outputs": [],
      "source": [
        "y0_6=10.5\n",
        "si6 = np.array([104, 103, 104.5,104.5,104.5])"
      ]
    },
    {
      "cell_type": "code",
      "execution_count": 11,
      "metadata": {
        "tags": [],
        "id": "U_dsrzFyXxq7"
      },
      "outputs": [],
      "source": [
        "y0_7=11\n",
        "si8 = np.array([105.5,103.3,106.0,105.5,105.8])"
      ]
    },
    {
      "cell_type": "code",
      "execution_count": 12,
      "metadata": {
        "tags": [],
        "id": "YkBulE8XXxq7"
      },
      "outputs": [],
      "source": [
        "y0_8=11.5\n",
        "si7 = np.array([110.4, 109.7, 111, 112, 108])"
      ]
    },
    {
      "cell_type": "code",
      "execution_count": 13,
      "metadata": {
        "tags": [],
        "id": "Tk0mB_aVXxq8"
      },
      "outputs": [],
      "source": [
        "y0_9=12\n",
        "si9 = np.array([118.5, 119.0, 116.5, 116.7, 117.5])"
      ]
    },
    {
      "cell_type": "code",
      "execution_count": 14,
      "metadata": {
        "tags": [],
        "id": "MxL7k3jQXxq8"
      },
      "outputs": [],
      "source": [
        "y0_10=13\n",
        "si10 = np.array([127, 123.2, 130.4, 122.7, 130])"
      ]
    },
    {
      "cell_type": "code",
      "execution_count": 15,
      "metadata": {
        "tags": [],
        "id": "qK5_92SEXxq8"
      },
      "outputs": [],
      "source": [
        "y0_array = np.array([6, 7, 8, 9, 10, 10.5, 11, 11.5, 12, 13])\n",
        "s0_array = y0_array - y_lente"
      ]
    },
    {
      "cell_type": "code",
      "source": [
        "def dispersion(V):\n",
        "  mean=0\n",
        "  for i in range(0, np.size(V)):\n",
        "    mean += (1/np.size(V))*V[i]\n",
        "\n",
        "  sigma2 = 0\n",
        "  for i in range(0, np.size(V)):\n",
        "    sigma2 += (1/(np.size(V)-1))*(V[i]-mean)**2\n",
        "   \n",
        "  return np.sqrt(sigma2)\n",
        "  \n",
        "   \n",
        "   "
      ],
      "metadata": {
        "id": "7Ci_HuWrYCIp"
      },
      "execution_count": 16,
      "outputs": []
    },
    {
      "cell_type": "code",
      "source": [
        "s_array=([si1, si2, si3, si4, si5, si6, si7, si8, si9, si10])\n",
        "\n",
        "error = np.zeros(10)\n",
        "for i in range(0,9):\n",
        "  error[i] = 1/(np.mean(s_array[i])**2)*dispersion(s_array[i])\n"
      ],
      "metadata": {
        "id": "NC66wQsog2Ym"
      },
      "execution_count": 17,
      "outputs": []
    },
    {
      "cell_type": "code",
      "source": [],
      "metadata": {
        "id": "ZPzaf-p2Z4id"
      },
      "execution_count": 17,
      "outputs": []
    },
    {
      "cell_type": "markdown",
      "metadata": {
        "id": "4febniIwXxq8"
      },
      "source": [
        "# Promediamos sobre los si"
      ]
    },
    {
      "cell_type": "code",
      "execution_count": 18,
      "metadata": {
        "id": "Zr1iuFjWXxq9"
      },
      "outputs": [],
      "source": [
        "#Medida de la distancia imagen para gran distancia de la lente\n",
        "#s_i_inf = #Esta va a ser otra medida de la distancia focal"
      ]
    },
    {
      "cell_type": "code",
      "execution_count": 19,
      "metadata": {
        "tags": [],
        "id": "IJjmymoZXxq9"
      },
      "outputs": [],
      "source": [
        "si_array = np.array([\n",
        "    np.mean(si1),\n",
        "    np.mean(si2),\n",
        "    np.mean(si3),\n",
        "    np.mean(si4),\n",
        "    np.mean(si5),\n",
        "    np.mean(si6),\n",
        "    np.mean(si7),\n",
        "    np.mean(si8),\n",
        "    np.mean(si9),\n",
        "    np.mean(si10)]\n",
        ")"
      ]
    },
    {
      "cell_type": "code",
      "execution_count": 20,
      "metadata": {
        "tags": [],
        "id": "NDOarA4KXxq-"
      },
      "outputs": [],
      "source": [
        "from scipy.stats import linregress"
      ]
    },
    {
      "cell_type": "code",
      "execution_count": 21,
      "metadata": {
        "tags": [],
        "id": "tLMt29J2Xxq-"
      },
      "outputs": [],
      "source": [
        "slope1, intercept1, r2_1  = linregress(1/s0_array, 1/si_array)[0:3]"
      ]
    },
    {
      "cell_type": "code",
      "execution_count": 36,
      "metadata": {
        "tags": [],
        "colab": {
          "base_uri": "https://localhost:8080/",
          "height": 318
        },
        "id": "ueuRypy-Xxq-",
        "outputId": "6466443e-2263-469a-a633-2ee3b40ad2a1"
      },
      "outputs": [
        {
          "output_type": "execute_result",
          "data": {
            "text/plain": [
              "Text(0.5, 1.0, 'Inverso de $s_i$ en función del inverso de $s_0$')"
            ]
          },
          "metadata": {},
          "execution_count": 36
        },
        {
          "output_type": "display_data",
          "data": {
            "text/plain": [
              "<Figure size 432x288 with 1 Axes>"
            ],
            "image/png": "[encoded data removed]"
          },
          "metadata": {
            "needs_background": "light"
          }
        }
      ],
      "source": [
        "#Con ecuación de Gauss\n",
        "x = np.linspace(-0.047, -0.03)\n",
        "plt.scatter(1/s0_array, 1/si_array) #El corte de esta gráfica es 1/f\n",
        "plt.plot(x, x*slope1 + intercept1, color = \"r\", \n",
        "         label= r\"Regresión, $r^2={}$\".format(round(r2_1,2)))\n",
        "plt.errorbar(1/s0_array, 1/si_array, error, capsize=5)\n",
        "plt.legend()\n",
        "plt.grid()\n",
        "plt.xlabel(r\"$1/s_0$\")\n",
        "plt.ylabel(r\"$1/s_i$\")\n",
        "plt.title(r\"Inverso de $s_i$ en función del inverso de $s_0$\")"
      ]
    },
    {
      "cell_type": "code",
      "execution_count": 23,
      "metadata": {
        "tags": [],
        "colab": {
          "base_uri": "https://localhost:8080/"
        },
        "id": "2ff6_xW3Xxq_",
        "outputId": "6b5f03f9-59ac-4230-e278-8e811fb559e5"
      },
      "outputs": [
        {
          "output_type": "execute_result",
          "data": {
            "text/plain": [
              "36.33521207622498"
            ]
          },
          "metadata": {},
          "execution_count": 23
        }
      ],
      "source": [
        "#Distancia focal (¿qué unidades tenemos? ¿cm?)\n",
        "1/intercept1\n"
      ]
    },
    {
      "cell_type": "code",
      "execution_count": 24,
      "metadata": {
        "id": "o00WAj2hXxq_"
      },
      "outputs": [],
      "source": [
        "#h = #altura objeto. Nota: propagar errores y encontrar la distancia focal\n",
        "hi = np.array([])\n",
        "#m = hi/h #aumento "
      ]
    },
    {
      "cell_type": "code",
      "execution_count": 25,
      "metadata": {
        "id": "oigwbuhUXxq_"
      },
      "outputs": [],
      "source": [
        "#Con ecuación de Newton\n",
        "#De la ecuación de Newton s0 = f + f/m\n",
        "#plt.plot(1+1/m, s0) #La pendiente será la distancia focal"
      ]
    },
    {
      "cell_type": "code",
      "source": [
        "m1= np.array([2, 2.2, 2.5, 2.8, 3, 3.2, 3.6, 3.9, 4.2, 4.5])\n",
        "m = 0.25*m1\n",
        "s0 = np.array([-30.5, -29.5, -28.5, -27.5, -26.5, -26, -25.5, -25, -24.5, -23.5])\n",
        "slope2, intercept2, r2_2  = linregress(1/m, s0)[0:3]"
      ],
      "metadata": {
        "id": "fl_1ihJfWvDP"
      },
      "execution_count": 41,
      "outputs": []
    },
    {
      "cell_type": "code",
      "source": [
        "x = np.linspace(1, 2.5, 100)\n",
        "plt.scatter(1/m ,s0)\n",
        "plt.grid()\n",
        "plt.plot(x, intercept2 + x*slope2, color = \"r\", label= r\"Regresión, $r^2={}$\".format(round(r2_2,2)))\n",
        "plt.legend()\n",
        "plt.ylabel(\"$s_0$\")\n",
        "plt.xlabel(\"1/m\")\n",
        "plt.title(\"Inverso de $s_0$ vs inverso de m\")\n",
        "intercept2 , slope2"
      ],
      "metadata": {
        "colab": {
          "base_uri": "https://localhost:8080/",
          "height": 314
        },
        "id": "sQ9p9Lq72hRR",
        "outputId": "13ba64b4-851a-492b-fe30-ce96ad1bf6e0"
      },
      "execution_count": 42,
      "outputs": [
        {
          "output_type": "execute_result",
          "data": {
            "text/plain": [
              "(-18.613735959128448, -6.0308760223912286)"
            ]
          },
          "metadata": {},
          "execution_count": 42
        },
        {
          "output_type": "display_data",
          "data": {
            "text/plain": [
              "<Figure size 432x288 with 1 Axes>"
            ],
            "image/png": "[encoded data removed]"
          },
          "metadata": {
            "needs_background": "light"
          }
        }
      ]
    },
    {
      "cell_type": "code",
      "source": [
        "def incertidumbres(x,y,m,dx,dy):\n",
        "  db = dy + dx*(np.mean(y)*np.mean(x) - np.mean(x*y))/(np.mean(x*x)- (np.mean(x)**2))\n",
        "  dm = (np.mean(y)*np.mean(x) - np.mean(x*y))/(np.mean(x*x)- (np.mean(x)**2)-m)*(dx/np.mean(x))\n",
        "  return dm, db"
      ],
      "metadata": {
        "id": "t5Nl2UEe_5_6"
      },
      "execution_count": 28,
      "outputs": []
    },
    {
      "cell_type": "code",
      "source": [],
      "metadata": {
        "id": "WosYmYgtAap-"
      },
      "execution_count": 28,
      "outputs": []
    },
    {
      "cell_type": "code",
      "source": [],
      "metadata": {
        "id": "ccwJehmUAk87"
      },
      "execution_count": 28,
      "outputs": []
    }
  ],
  "metadata": {
    "kernelspec": {
      "display_name": "Python 3 (ipykernel)",
      "language": "python",
      "name": "python3"
    },
    "language_info": {
      "codemirror_mode": {
        "name": "ipython",
        "version": 3
      },
      "file_extension": ".py",
      "mimetype": "text/x-python",
      "name": "python",
      "nbconvert_exporter": "python",
      "pygments_lexer": "ipython3",
      "version": "3.9.2"
    },
    "colab": {
      "provenance": []
    }
  },
  "nbformat": 4,
  "nbformat_minor": 0
}